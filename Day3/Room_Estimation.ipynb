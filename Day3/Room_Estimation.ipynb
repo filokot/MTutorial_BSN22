{
 "cells": [
  {
   "cell_type": "markdown",
   "id": "262294e2-a3f9-4086-9499-caec1e7f9d44",
   "metadata": {
    "tags": []
   },
   "source": [
    "# Intro\n",
    "This notebook serves as a demonstration of how FMU's can be simulated in Python with [FMPy](https://github.com/CATIA-Systems/FMPy) and how [ModestPy](https://github.com/sdu-cfei/modest-py) can be used for estimating parameters. The model is adapted from the OU44 Modelica library available [here](https://github.com/sdu-cfei/OU44).\n",
    "\n",
    "The data was collected as a part of the Elforsk project *Data-driven building management and commissioning focusing on energy and indoor climate*. All use of the data and/or this notebook requires proper reference to the author(s):\n",
    "\n",
    "__Fjerbæk, E. V., & Hviid, C. A. (In preparation) *Benchmarking heating system efficiency in office buildings through grey-box*__"
   ]
  },
  {
   "cell_type": "markdown",
   "id": "11d5c25f-1296-4204-baab-578b657524c7",
   "metadata": {},
   "source": [
    "# Import needed libraries"
   ]
  },
  {
   "cell_type": "code",
   "execution_count": null,
   "id": "ac02ade0-05a6-41d1-882e-895105e4fabd",
   "metadata": {
    "tags": []
   },
   "outputs": [],
   "source": [
    "from modestpy import Estimation\n",
    "import data_importer as data\n",
    "import fmpy\n",
    "from fmpy.util import plot_result\n",
    "import pandas as pd\n",
    "import os\n",
    "from plotly.subplots import make_subplots\n",
    "import csv"
   ]
  },
  {
   "cell_type": "markdown",
   "id": "8914edfc-5558-4ba2-92b2-61b13b62165e",
   "metadata": {
    "tags": []
   },
   "source": [
    "# Import data"
   ]
  },
  {
   "cell_type": "code",
   "execution_count": null,
   "id": "82ff7d3d-9d63-4837-8434-3e891f353924",
   "metadata": {
    "tags": []
   },
   "outputs": [],
   "source": [
    "data_path = \"Resources/Data/\"\n",
    "\n",
    "# Import external temperature time series from weather data (weather.csv)\n",
    "weather = pd.read_csv(os.path.join(data_path,\"weather.csv\"),index_col=0)\n",
    "weather.index = pd.to_datetime(weather.index)\n",
    "\n",
    "# Import occupant time series (occupants.csv)\n",
    "occupants = pd.read_csv(os.path.join(data_path,\"occupants.csv\"),index_col=0)\n",
    "occupants.index = pd.to_datetime(occupants.index)\n",
    "\n",
    "# Import indoor temperature time series (temps_CE.csv)\n",
    "temps = pd.read_csv(os.path.join(data_path,\"temps_CE.csv\"),index_col=0)\n",
    "temps.index = pd.to_datetime(temps.index)"
   ]
  },
  {
   "cell_type": "markdown",
   "id": "0f1c6423-bbc5-40b9-aedc-99d406880b34",
   "metadata": {
    "tags": []
   },
   "source": [
    "# Group, clean and plot data\n",
    "Here we group the data into a variables used by ModestPy. We will not go through these - just execute the cells."
   ]
  },
  {
   "cell_type": "markdown",
   "id": "85661524-efde-4759-9a9a-055cb6cbdfb3",
   "metadata": {
    "tags": []
   },
   "source": [
    "## Inputs\n",
    "Here we restructure measurements inputs"
   ]
  },
  {
   "cell_type": "code",
   "execution_count": null,
   "id": "ee3c7afe-631c-4bef-9ceb-4036eb63aff3",
   "metadata": {
    "tags": []
   },
   "outputs": [],
   "source": [
    "%%capture\n",
    "inp = pd.DataFrame(index = weather.index)\n",
    "inp[\"time\"] = weather.index\n",
    "\n",
    "inp[\"solrad\"] = weather[\"solar_rad\"]\n",
    "\n",
    "inp[\"Tout\"] = weather[\"temp\"]\n",
    "\n",
    "inp[\"Tvestp\"] = data.create_ventilation_stp(weather)[\"Tvest\"]+1\n",
    "\n",
    "inp[\"verate\"] = data.create_ventilation_rate(inp.index,4,19)\n",
    "\n",
    "inp[\"occ\"] = occupants[\"inhouse\"]*0.2107\n",
    "inp[\"occ\"] = inp[\"occ\"]\n",
    "\n",
    "inp[\"Tstp\"] = 23\n",
    "\n",
    "inp = inp.reset_index(drop=True)\n",
    "dates_inp = inp[\"time\"] # X axis with dates - used for plotting\n",
    "inp[\"time\"] = inp[\"time\"].diff().astype('timedelta64[s]').astype('float').cumsum().fillna(0)\n",
    "inp = inp.set_index(\"time\")\n",
    "\n",
    "inp = inp.fillna(method=\"bfill\")"
   ]
  },
  {
   "cell_type": "markdown",
   "id": "58086694-f828-451a-89ed-b3d743249a3b",
   "metadata": {
    "tags": []
   },
   "source": [
    "## Ideals\n",
    "Here we restructure measurements for comparison"
   ]
  },
  {
   "cell_type": "code",
   "execution_count": null,
   "id": "e9a7e7ec-3127-4da7-b14b-d11aadaeaac7",
   "metadata": {
    "tags": []
   },
   "outputs": [],
   "source": [
    "ideal = pd.DataFrame(index = temps[\"avg\"].index)\n",
    "ideal[\"time\"] = temps[\"avg\"].index\n",
    "\n",
    "ideal[\"T\"] = temps[\"avg\"]\n",
    "\n",
    "\n",
    "ideal = ideal.reset_index(drop=True)\n",
    "\n",
    "ideal[\"time\"] = ideal[\"time\"].diff().astype('timedelta64[s]').astype('float').cumsum().fillna(0)\n",
    "ideal = ideal.set_index(\"time\")\n",
    "\n",
    "ideal=ideal.fillna(method=\"bfill\")"
   ]
  },
  {
   "cell_type": "markdown",
   "id": "2fc5651e-8eac-46bc-9841-babad9b86f1e",
   "metadata": {
    "tags": []
   },
   "source": [
    "## Specify 'est' and 'known'\n",
    "Here we define the known parameters and bounds for the estimated parameters."
   ]
  },
  {
   "cell_type": "code",
   "execution_count": null,
   "id": "4f37c280-4abd-4d1d-91cd-2ae71fc09781",
   "metadata": {
    "tags": []
   },
   "outputs": [],
   "source": [
    "known = {\n",
    "         'Vi': 9839,\n",
    "         'Vinf': 100,\n",
    "         'RExt': 1.5,\n",
    "         'maxVent': 33992*0.226,\n",
    "         'tmass': 1\n",
    "        }\n",
    "\n",
    "est =   {\n",
    "         'shgc': [30, 20, 50],\n",
    "         'imass':[14,10,18],\n",
    "         'maxHeat':[1000,0,20000],\n",
    "        }\n",
    "\n",
    "ic_param = {\n",
    "    \"TairInit\":\"T\"\n",
    "}"
   ]
  },
  {
   "cell_type": "markdown",
   "id": "40869bf3-a03a-4fc4-9a6a-991b637fb4a1",
   "metadata": {
    "tags": []
   },
   "source": [
    "## Plot inputs\n",
    "Plot the inputs in a graph to test if data import is successful."
   ]
  },
  {
   "cell_type": "code",
   "execution_count": null,
   "id": "0b43e7cc-a105-4531-8742-1dae895c6549",
   "metadata": {
    "tags": []
   },
   "outputs": [],
   "source": [
    "fig = make_subplots(rows=5, cols=1,\n",
    "                    shared_xaxes = True,\n",
    "                    vertical_spacing=0.05,\n",
    "                   )\n",
    "row = 0\n",
    "# Outside temperature\n",
    "row += 1\n",
    "fig['layout'][f'yaxis{row}'].update(title=\"Tout [°C]\")\n",
    "fig.add_scatter(x= dates_inp, y=inp[\"Tout\"],row=row,col=1,name = \"Outside - Simulated\",legendgroup=str(row), line=dict(color='#636efa', width=1))\n",
    "\n",
    "# Ventilation setpoint\n",
    "row += 1\n",
    "fig['layout'][f'yaxis{row}'].update(title=\"Ventilation stp [°C]\")\n",
    "fig.add_scatter(x= dates_inp, y=inp[\"Tvestp\"],row=row,col=1,name = \"Ventilation stp\",legendgroup=str(row), line=dict(color='#636efa', width=1))\n",
    "\n",
    "# Solar gains\n",
    "row += 1\n",
    "fig['layout'][f'yaxis{row}'].update(title=\"Solar gain [W]\")\n",
    "fig.add_scatter(x= dates_inp, y=inp[\"solrad\"],row=row,col=1,name = \"Solar\",legendgroup=str(row), line=dict(color='#636efe', width=1))\n",
    "\n",
    "# Occupancy\n",
    "row += 1\n",
    "fig['layout'][f'yaxis{row}'].update(title=\"Occupancy [-]\")\n",
    "fig.add_scatter(x= dates_inp, y=inp[\"occ\"],row=row,col=1,name = \"Occupancy\",legendgroup=str(row), line=dict(color='#636efa', width=1))\n",
    "\n",
    "# verate\n",
    "row += 1\n",
    "fig['layout'][f'yaxis{row}'].update(title=\"Ventilation rate [-]\")\n",
    "fig.add_scatter(x= dates_inp, y=inp[\"verate\"],row=row,col=1,name = \"verate\",legendgroup=str(row), line=dict(color='#636efa', width=1))\n",
    "\n",
    "fig.update_layout(\n",
    "    # width=800,\n",
    "    height=150*row,\n",
    "    legend_tracegroupgap = 150*245/300,)\n",
    "\n",
    "\n",
    "axes_attrs = dict(showgrid=True, gridwidth=1, ticklen=0, gridcolor='LightGrey', linecolor='black', showline=True,\n",
    "                  zerolinewidth=1, zerolinecolor='LightGrey')\n",
    "fig.update_xaxes(**axes_attrs)\n",
    "fig.update_yaxes(**axes_attrs)\n",
    "fig.update_layout(showlegend=False, margin=dict(t=30, b=0, r=30), plot_bgcolor='rgba(0,0,0,0)')\n",
    "\n",
    "fig.show()"
   ]
  },
  {
   "cell_type": "markdown",
   "id": "f8e2858e-613d-4005-bf6e-c780aa55f87e",
   "metadata": {
    "tags": []
   },
   "source": [
    "# Simulate raw model\n",
    "Here we simulate the model, with the parameters specified in the FMU"
   ]
  },
  {
   "cell_type": "code",
   "execution_count": null,
   "id": "d3725a11-4656-4d5c-8808-6a69f34dcc1c",
   "metadata": {
    "tags": []
   },
   "outputs": [],
   "source": [
    "# Rewrite inputs to FMPy format\n",
    "inp_copy = inp.copy()\n",
    "inp_np = inp_copy.to_records()\n",
    "wanted_outputs = [\"T\",\"heatFlowSensor.Q_flow\",\"prescribedHeatFlow.Q_flow\",\"re.port_b.Q_flow\",\"occ\"]\n",
    "\n",
    "start_time = 0\n",
    "stop_time = inp.index[-1]\n",
    "fmu_path = \"Resources/FMUs/ModelicaWorkshop_RoomModel.fmu\"\n",
    "\n",
    "result_realistic=fmpy.simulate_fmu(fmu_path,input=inp_np,output = wanted_outputs,start_time = start_time,stop_time=stop_time,relative_tolerance=1e-5)\n",
    "\n",
    "plot_result(result_realistic)"
   ]
  },
  {
   "cell_type": "markdown",
   "id": "c9603d77-ccd1-4e3c-842b-14978b22d742",
   "metadata": {
    "tags": []
   },
   "source": [
    "# Estimation with ModestPy\n",
    "We use the following parameters to setup and start an estimation case study:\n",
    "\n",
    "<style type=\"text/css\">\n",
    ".tg  {border-collapse:collapse;border-spacing:0;}\n",
    ".tg td{border-color:black;border-style:solid;border-width:1px;font-family:Arial, sans-serif;font-size:14px;\n",
    "  overflow:hidden;padding:10px 5px;word-break:normal;}\n",
    ".tg th{border-color:black;border-style:solid;border-width:1px;font-family:Arial, sans-serif;font-size:14px;\n",
    "  font-weight:normal;overflow:hidden;padding:10px 5px;word-break:normal;}\n",
    ".tg .tg-0pky{border-color:inherit;text-align:left;vertical-align:top}\n",
    "</style>\n",
    "<table class=\"tg\" style=\"float:left\">\n",
    "<thead>\n",
    "  <tr>\n",
    "    <th class=\"tg-0pky\">Variable</th>\n",
    "    <th class=\"tg-0pky\">Value</th>\n",
    "  </tr>\n",
    "</thead>\n",
    "<tbody>\n",
    "  <tr>\n",
    "    <td class=\"tg-0pky\">ic_param</td>\n",
    "    <td class=\"tg-0pky\">ic_param</td>\n",
    "  </tr>\n",
    "  <tr>\n",
    "    <td class=\"tg-0pky\">lp_n</td>\n",
    "    <td class=\"tg-0pky\">1</td>\n",
    "  </tr>\n",
    "  <tr>\n",
    "    <td class=\"tg-0pky\">lp_frame</td>\n",
    "    <td class=\"tg-0pky\">(start, end)</td>\n",
    "  </tr>\n",
    "  <tr>\n",
    "    <td class=\"tg-0pky\">vp</td>\n",
    "    <td class=\"tg-0pky\">(end, end + validation)</td>\n",
    "  </tr>\n",
    "  <tr>\n",
    "    <td class=\"tg-0pky\">ftype</td>\n",
    "    <td class=\"tg-0pky\">'NRMSE'</td>\n",
    "  </tr>\n",
    "  <tr>\n",
    "    <td class=\"tg-0pky\">default_log</td>\n",
    "    <td class=\"tg-0pky\">True</td>\n",
    "  </tr>\n",
    "  <tr>\n",
    "    <td class=\"tg-0pky\">logfile</td>\n",
    "    <td class=\"tg-0pky\">'simple.log'</td>\n",
    "  </tr>\n",
    "  <tr>\n",
    "    <td class=\"tg-0pky\">methods</td>\n",
    "    <td class=\"tg-0pky\">('MODESTGA',)</td>\n",
    "  </tr>\n",
    "  <tr>\n",
    "    <td class=\"tg-0pky\">generations</td>\n",
    "    <td class=\"tg-0pky\">15</td>\n",
    "  </tr>\n",
    "  <tr>\n",
    "    <td class=\"tg-0pky\">pop_size</td>\n",
    "    <td class=\"tg-0pky\">40</td>\n",
    "  </tr>\n",
    "  <tr>\n",
    "    <td class=\"tg-0pky\">trm_size</td>\n",
    "    <td class=\"tg-0pky\">7</td>\n",
    "  </tr>\n",
    "  <tr>\n",
    "    <td class=\"tg-0pky\">tol</td>\n",
    "    <td class=\"tg-0pky\">1e-3</td>\n",
    "  </tr>\n",
    "  <tr>\n",
    "    <td class=\"tg-0pky\">workers</td>\n",
    "    <td class=\"tg-0pky\">3</td>\n",
    "  </tr>\n",
    "</tbody>\n",
    "</table>"
   ]
  },
  {
   "cell_type": "code",
   "execution_count": null,
   "id": "78926724-5524-4d68-bf76-67f6c8f1aa22",
   "metadata": {
    "tags": []
   },
   "outputs": [],
   "source": [
    "# Parameters\n",
    "fmu_path = \"Resources/FMUs/ModelicaWorkshop_RoomModel.fmu\"\n",
    "workdir = \"Results/ModelicaWorkshop_RoomModel\"\n",
    "\n",
    "# Create workdir if it doesn't exist:\n",
    "if not os.path.exists(workdir):\n",
    "  os.makedirs(workdir)\n",
    "\n",
    "start = 0              # Start of learning period\n",
    "end = 3600*24*14       # End of learning period\n",
    "validation = 3600*24*14 # Length of validation period"
   ]
  },
  {
   "cell_type": "code",
   "execution_count": null,
   "id": "7f1b773c-bd60-410e-89f6-ab48cfb202b4",
   "metadata": {
    "tags": []
   },
   "outputs": [],
   "source": [
    "# Setup estimation\n",
    "from modestpy import Estimation\n",
    "session = Estimation(\n",
    "        workdir,\n",
    "        fmu_path,\n",
    "        inp,\n",
    "        known,\n",
    "        est,\n",
    "        ideal,\n",
    "        ic_param=ic_param,\n",
    "        lp_n=1,\n",
    "        lp_frame=(start, end), # Period for learning\n",
    "        vp=(end, end + validation), # Validation period\n",
    "        modestga_opts={\n",
    "            'generations': 15,   # Max. number of generations\n",
    "            'pop_size': 40,      # Population size\n",
    "            'trm_size': 7,       # Tournament size\n",
    "            'tol': 1e-1,         # Absolute tolerance\n",
    "            'workers': 3         # Number of CPUs to use\n",
    "        },\n",
    "        ftype='RMSE', # We use RMSE, because we only use one output for comparison\n",
    "        default_log=True,\n",
    "        logfile='simple.log'\n",
    "    )"
   ]
  },
  {
   "cell_type": "code",
   "execution_count": null,
   "id": "a3064ee7-7f33-4184-b32f-7348dd4a5017",
   "metadata": {
    "scrolled": true,
    "tags": []
   },
   "outputs": [],
   "source": [
    "# Run estimation\n",
    "estimates = session.estimate()"
   ]
  },
  {
   "cell_type": "code",
   "execution_count": null,
   "id": "529e8c3e-232d-480f-86f7-59b8a0f1b9f4",
   "metadata": {
    "tags": []
   },
   "outputs": [],
   "source": [
    "# Validate solution\n",
    "err, res = session.validate()"
   ]
  },
  {
   "cell_type": "code",
   "execution_count": null,
   "id": "fd396a34-ac68-4d3d-adfa-e6f930c5f110",
   "metadata": {
    "tags": []
   },
   "outputs": [],
   "source": [
    "# Print estimates\n",
    "print(estimates)"
   ]
  },
  {
   "cell_type": "markdown",
   "id": "f2c0d29f-4500-417f-954b-d118d9ef4e33",
   "metadata": {},
   "source": [
    "## 2nd try\n",
    "The solution is bad, and we see that all parameters have met the limit, and therefore we try again. The imass lower limit seems high, so we increase that. With "
   ]
  },
  {
   "cell_type": "code",
   "execution_count": null,
   "id": "907601c9-76bf-4256-832d-1f6e3d3bc01e",
   "metadata": {},
   "outputs": [],
   "source": [
    "est =   {\n",
    "         'shgc': [30, 20, 60],\n",
    "         'imass':[15,1,15],\n",
    "         'maxHeat':[40000,20000,50000]\n",
    "        }"
   ]
  },
  {
   "cell_type": "code",
   "execution_count": null,
   "id": "d9242ee2-7245-4dba-8f13-91caf6e972bc",
   "metadata": {
    "scrolled": true,
    "tags": []
   },
   "outputs": [],
   "source": [
    "session_2 = Estimation(\n",
    "        workdir,\n",
    "        fmu_path,\n",
    "        inp,\n",
    "        known,\n",
    "        est,\n",
    "        ideal,\n",
    "        ic_param=ic_param,\n",
    "        lp_n=1,\n",
    "        lp_frame=(start, end), # Period for learning\n",
    "        vp=(end, end + validation), # Validation period\n",
    "        modestga_opts={\n",
    "            'generations': 15,   # Max. number of generations\n",
    "            'pop_size': 40,      # Population size\n",
    "            'trm_size': 7,       # Tournament size\n",
    "            'tol': 1e-1,         # Absolute tolerance\n",
    "            'workers': 3         # Number of CPUs to use\n",
    "        },\n",
    "        ftype='RMSE',\n",
    "        default_log=True,\n",
    "        logfile='simple.log'\n",
    "    )\n",
    "\n",
    "estimates_2 = session_2.estimate()"
   ]
  },
  {
   "cell_type": "code",
   "execution_count": null,
   "id": "e275f57f-e0de-41fb-bc97-2e9108b54e26",
   "metadata": {},
   "outputs": [],
   "source": [
    "err_2, res_2 = session_2.validate()\n",
    "print(estimates_2)"
   ]
  },
  {
   "cell_type": "markdown",
   "id": "f5b8e436-d01d-47a7-94c7-91fb31865f93",
   "metadata": {},
   "source": [
    "## 3rd try\n",
    "We still have values that are limited. We see an offset in the temperature, that can be hard to fix. If we increase the setpoint, we can remove this setpoint. Alternatively, the setpoint could have been a part of the estimates, if it was a parameter in the FMU.\n",
    "\n",
    "Let's try and replace them."
   ]
  },
  {
   "cell_type": "code",
   "execution_count": null,
   "id": "05fd4623-3833-499a-8ba2-924f987af05a",
   "metadata": {
    "tags": []
   },
   "outputs": [],
   "source": [
    "inp[\"Tstp\"] = 23.7\n",
    "\n",
    "est =   {\n",
    "         'shgc': [30, 20, 60],\n",
    "         'imass':[15,1,15],\n",
    "         'maxHeat':[40000,20000,50000]\n",
    "        }"
   ]
  },
  {
   "cell_type": "code",
   "execution_count": null,
   "id": "d977aa4a-15fc-408f-a646-d9d9223891c1",
   "metadata": {
    "scrolled": true,
    "tags": []
   },
   "outputs": [],
   "source": [
    "session_3 = Estimation(\n",
    "        workdir,\n",
    "        fmu_path,\n",
    "        inp,\n",
    "        known,\n",
    "        est,\n",
    "        ideal,\n",
    "        ic_param=ic_param,\n",
    "        lp_n=1,\n",
    "        lp_frame=(start, end), # Period for learning\n",
    "        vp=(end, end + validation), # Validation period\n",
    "        modestga_opts={\n",
    "            'generations': 15,   # Max. number of generations\n",
    "            'pop_size': 40,      # Population size\n",
    "            'trm_size': 7,       # Tournament size\n",
    "            'tol': 1e-3,         # Absolute tolerance\n",
    "            'workers': 3         # Number of CPUs to use\n",
    "        },\n",
    "        ftype='RMSE',\n",
    "        default_log=True,\n",
    "        logfile='simple.log'\n",
    "    )\n",
    "\n",
    "estimates_3 = session_3.estimate()"
   ]
  },
  {
   "cell_type": "code",
   "execution_count": null,
   "id": "4ee793b4-1859-451e-98b9-70dc3ee4a237",
   "metadata": {
    "tags": []
   },
   "outputs": [],
   "source": [
    "err_3, res_3 = session_3.validate()\n",
    "print(estimates_3)"
   ]
  },
  {
   "cell_type": "markdown",
   "id": "897c82bd-3277-4200-a76a-8e4a20f6960c",
   "metadata": {
    "tags": []
   },
   "source": [
    "# Simulate, analyze and plot estimated solution\n",
    "Now we are happy with the results.\n",
    "\n",
    "To get a detailed view on the simulations, we run the model (as in part 4) with the found with the parameters found in the estimation."
   ]
  },
  {
   "cell_type": "code",
   "execution_count": null,
   "id": "3aead51a-5f28-4292-82fc-0c7f29c722e3",
   "metadata": {
    "tags": []
   },
   "outputs": [],
   "source": [
    "# Rewrite inputs to FMPy format\n",
    "inp_copy = inp.copy()\n",
    "inp_np = inp_copy.to_records()\n",
    "\n",
    "# Specify the results, we want from the FMU.\n",
    "wanted_outputs = [\"T\",\"Tout\",\"Tret\",\"Tsup\",\"P_temp.y\",\"heatFlowSensor.Q_flow\",\"prescribedHeatFlow1.Q_flow\",\"prescribedHeatFlow.Q_flow\",\"re.port_b.Q_flow\",\"occ\",\"Tstp\",\"filter1.y\",\"verate\",\"filter2.y\",\"solarGainNorth.Q_flow\",\"solarGainSouth.Q_flow\",\"solarGainEast.Q_flow\",\"solarGainWest.Q_flow\",\"rad.Q_flow\",\"airMix_new.port_b.Q_flow\",\"rad.m_flow\",\"max1.y\"]\n",
    "\n",
    "# Combine known and estimates to 'values' variable - if we have already run an estimation in this session, we use that\n",
    "# - otherwise we import from the 'final.csv' file produced by ModestPy\n",
    "est_path = \"Results/final.csv\"\n",
    "if 'estimates_3' in locals():\n",
    "    values = {**known, **estimates_3}\n",
    "else:\n",
    "    reader = csv.DictReader(open(est_path))\n",
    "    dictobj = next(reader) \n",
    "    dictobj\n",
    "    values = {**known,\n",
    "              **dictobj}\n",
    "\n",
    "# Specify start and stop time\n",
    "start_time = 0\n",
    "stop_time = inp.index[-1]\n",
    "\n",
    "# Run simulation\n",
    "result_realistic=fmpy.simulate_fmu(fmu_path,input=inp_np,start_values=values,output = wanted_outputs,start_time = start_time,stop_time=stop_time,relative_tolerance=1e-5)\n",
    "\n",
    "# Clean daata\n",
    "result_df = pd.DataFrame.from_records(result_realistic, index = \"time\")\n",
    "measured_df = pd.concat((ideal,inp),axis=1)\n",
    "\n",
    "result_df.index = result_df.index/3600\n",
    "measured_df.index = measured_df.index/3600\n",
    "\n",
    "result_df[\"TimeDelta\"] = result_df.index.to_series().diff() # Timestep in Hours\n",
    "measured_df[\"TimeDelta\"] = measured_df.index.to_series().diff() # Timestep in Hours"
   ]
  },
  {
   "cell_type": "markdown",
   "id": "ac1711e2-a11a-4244-8a4d-adef86b744ac",
   "metadata": {
    "tags": []
   },
   "source": [
    "## Plot simulation results\n",
    "Blue lines are measurements, orange are simulation results"
   ]
  },
  {
   "cell_type": "code",
   "execution_count": null,
   "id": "9dd54048-df51-4390-b728-ed05f5c181d7",
   "metadata": {
    "tags": []
   },
   "outputs": [],
   "source": [
    "dates_result = pd.to_timedelta(result_df.index,'h')+dates_inp[0] # X axis range with dates for simulation results\n",
    "\n",
    "fig = make_subplots(rows=7, cols=1,\n",
    "                    shared_xaxes = True,\n",
    "                    vertical_spacing=0.05,\n",
    "                    # subplot_titles = [\"Room temperature\",\"System temperatures\",\"Occupancy\",\"Solar gains\",\"TRV\",\"Ventilation\",\"Damping\",\"verate\"]\n",
    "                   )\n",
    "\n",
    "\n",
    "# Outside temperature\n",
    "row = 1\n",
    "fig['layout'][f'yaxis{row}'].update(title=\"Outside temp. [°C]\")\n",
    "fig.add_scatter(x= dates_result, y=result_df[\"Tout\"],row=row,col=1,name = \"Outside temperature\",legendgroup=str(row), line=dict(color='#636efa', width=1))\n",
    "\n",
    "# Room temperature\n",
    "row += 1\n",
    "fig['layout'][f'yaxis{row}'].update(title=\"Room temp. [°C]\")\n",
    "fig.add_scatter(x= dates_result, y=result_df[\"T\"],row=row,col=1,name = \"Room - Simulated\",legendgroup=str(row), line=dict(color='#fcb103', width=1))\n",
    "fig.add_scatter(x= dates_inp, y=measured_df[\"T\"],row=row,col=1,name = \"Room - Measured\",legendgroup=str(row), line=dict(color='#636efa', width=1))\n",
    "\n",
    "\n",
    "# Occupancy\n",
    "row += 1\n",
    "fig['layout'][f'yaxis{row}'].update(title=\"Occupancy [-]\")\n",
    "fig.add_scatter(x= dates_inp, y=measured_df[\"occ\"],row=row,col=1,name = \"Occupancy\",legendgroup=str(row), line=dict(color='#636efa', width=1))\n",
    "\n",
    "\n",
    "# ventilation loss\n",
    "row += 1\n",
    "fig['layout'][f'yaxis{row}'].update(title=\"Vent. loss [W]\")\n",
    "fig.add_scatter(x= dates_result, y=result_df[\"airMix_new.port_b.Q_flow\"],row=row,col=1,name = \"Ventilation loss\",legendgroup=str(row), line=dict(color='#fcb103', width=1))\n",
    "\n",
    "# transmission loss\n",
    "row += 1\n",
    "fig['layout'][f'yaxis{row}'].update(title=\"Trans. loss [W]\")\n",
    "fig.add_scatter(x= dates_result, y=result_df[\"re.port_b.Q_flow\"],row=row,col=1,name = \"Transmission loss\",legendgroup=str(row), line=dict(color='#fcb103', width=1))\n",
    "\n",
    "# solar gain\n",
    "row += 1\n",
    "fig['layout'][f'yaxis{row}'].update(title=\"Solar gain [W]\")\n",
    "fig.add_scatter(x= dates_result, y=result_df[\"prescribedHeatFlow.Q_flow\"],row=row,col=1,name = \"Solar gain\",legendgroup=str(row), line=dict(color='#fcb103', width=1))\n",
    "\n",
    "# heating\n",
    "row += 1\n",
    "fig['layout'][f'yaxis{row}'].update(title=\"Heating power [W]\")\n",
    "fig.add_scatter(x= dates_result, y=result_df[\"prescribedHeatFlow1.Q_flow\"],row=row,col=1,name = \"Heating power\",legendgroup=str(row), line=dict(color='#fcb103', width=1))\n",
    "\n",
    "fig.update_layout(\n",
    "    # width=800,\n",
    "    height=150*row,\n",
    "    legend_tracegroupgap = 150*240/300,)\n",
    "\n",
    "axes_attrs = dict(showgrid=True, gridwidth=1, ticklen=0, gridcolor='LightGrey', linecolor='black', showline=True,\n",
    "                  zerolinewidth=1, zerolinecolor='LightGrey')\n",
    "\n",
    "fig.update_xaxes(**axes_attrs)\n",
    "fig.update_yaxes(**axes_attrs)\n",
    "\n",
    "fig.update_layout(showlegend=False, margin=dict(t=30, b=0, r=30), plot_bgcolor='rgba(0,0,0,0)')\n",
    "\n",
    "fig.show()"
   ]
  },
  {
   "cell_type": "code",
   "execution_count": null,
   "id": "00f7c5f1-8330-4140-a209-6a74cb564f36",
   "metadata": {},
   "outputs": [],
   "source": []
  }
 ],
 "metadata": {
  "interpreter": {
   "hash": "2801e3f41615585cbf9310ac45c7ba2d0ae31d88c3f63692fd086fe42a5f827a"
  },
  "kernelspec": {
   "display_name": "Python 3 (ipykernel)",
   "language": "python",
   "name": "python3"
  },
  "language_info": {
   "codemirror_mode": {
    "name": "ipython",
    "version": 3
   },
   "file_extension": ".py",
   "mimetype": "text/x-python",
   "name": "python",
   "nbconvert_exporter": "python",
   "pygments_lexer": "ipython3",
   "version": "3.10.5"
  },
  "toc-autonumbering": true,
  "toc-showcode": false,
  "toc-showmarkdowntxt": false,
  "toc-showtags": false
 },
 "nbformat": 4,
 "nbformat_minor": 5
}
