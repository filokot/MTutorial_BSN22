{
 "cells": [
  {
   "cell_type": "markdown",
   "id": "d1c61ee6-888c-42b5-b7be-19d5759e9e2d",
   "metadata": {
    "tags": []
   },
   "source": [
    "# Full estimation with split solar gains"
   ]
  },
  {
   "cell_type": "markdown",
   "id": "11d5c25f-1296-4204-baab-578b657524c7",
   "metadata": {},
   "source": [
    "## Import needed libraries"
   ]
  },
  {
   "cell_type": "code",
   "execution_count": 1,
   "id": "ac02ade0-05a6-41d1-882e-895105e4fabd",
   "metadata": {
    "execution": {
     "iopub.execute_input": "2022-08-23T11:34:51.507395Z",
     "iopub.status.busy": "2022-08-23T11:34:51.506397Z",
     "iopub.status.idle": "2022-08-23T11:34:53.897428Z",
     "shell.execute_reply": "2022-08-23T11:34:53.896532Z",
     "shell.execute_reply.started": "2022-08-23T11:34:51.506397Z"
    },
    "tags": []
   },
   "outputs": [],
   "source": [
    "from modestpy import Estimation\n",
    "import data_importer as data\n",
    "import fmpy\n",
    "import pandas as pd\n",
    "import os\n",
    "from plotly.subplots import make_subplots\n",
    "import csv"
   ]
  },
  {
   "cell_type": "markdown",
   "id": "8914edfc-5558-4ba2-92b2-61b13b62165e",
   "metadata": {
    "tags": []
   },
   "source": [
    "## Import data\n",
    "Use the import function for the weather data to import the other data:\n",
    "\n",
    "<table style=\"float:left\">\n",
    "<thead>\n",
    "  <tr>\n",
    "    <th>Data</th>\n",
    "    <th>Variable name</th>\n",
    "    <th>File name</th>\n",
    "  </tr>\n",
    "</thead>\n",
    "<tbody>\n",
    "  <tr>\n",
    "    <td>External temperatures</td>\n",
    "    <td>weather</td>\n",
    "    <td>weather.csv</td>\n",
    "  </tr>\n",
    "  <tr>\n",
    "    <td>Solar radiation</td>\n",
    "    <td>solar_rad</td>\n",
    "    <td>solar_rad.csv</td>\n",
    "  </tr>\n",
    "  <tr>\n",
    "    <td>System temperatures</td>\n",
    "    <td>riser_CE</td>\n",
    "    <td>riser_CE.csv</td>\n",
    "  </tr>\n",
    "  <tr>\n",
    "    <td>Occupant count</td>\n",
    "    <td>occupants</td>\n",
    "    <td>occupants.csv</td>\n",
    "  </tr>\n",
    "  <tr>\n",
    "    <td>Indoor temperatures</td>\n",
    "    <td>temps</td>\n",
    "    <td>temps_CE.csv</td>\n",
    "  </tr>\n",
    "</tbody>\n",
    "</table>"
   ]
  },
  {
   "cell_type": "code",
   "execution_count": 2,
   "id": "82ff7d3d-9d63-4837-8434-3e891f353924",
   "metadata": {
    "execution": {
     "iopub.execute_input": "2022-08-23T11:34:56.082987Z",
     "iopub.status.busy": "2022-08-23T11:34:56.082987Z",
     "iopub.status.idle": "2022-08-23T11:34:56.143987Z",
     "shell.execute_reply": "2022-08-23T11:34:56.142988Z",
     "shell.execute_reply.started": "2022-08-23T11:34:56.082987Z"
    },
    "tags": []
   },
   "outputs": [],
   "source": [
    "data_path = f\"Data/\"\n",
    "\n",
    "# Import external temperature time series from weather data (weather.csv)\n",
    "weather = pd.read_csv(os.path.join(data_path,\"weather.csv\"),index_col=0)\n",
    "weather.index = pd.to_datetime(weather.index)\n",
    "\n",
    "# Import solar radiation time series (solar_rad.csv)\n",
    "\n",
    "# Import system temperatures time series (riser_CE.csv)\n",
    "\n",
    "# Import occupant time series (occupants.csv)\n",
    "\n",
    "# Import indoor temperature time series (temps_CE.csv)"
   ]
  },
  {
   "cell_type": "markdown",
   "id": "0f1c6423-bbc5-40b9-aedc-99d406880b34",
   "metadata": {
    "tags": []
   },
   "source": [
    "## Group and clean data\n",
    "Here we group the data into a variables used by ModestPy. We will not go through these - just execute the cells."
   ]
  },
  {
   "cell_type": "markdown",
   "id": "85661524-efde-4759-9a9a-055cb6cbdfb3",
   "metadata": {
    "tags": []
   },
   "source": [
    "### Inputs"
   ]
  },
  {
   "cell_type": "code",
   "execution_count": null,
   "id": "ee3c7afe-631c-4bef-9ceb-4036eb63aff3",
   "metadata": {
    "tags": []
   },
   "outputs": [],
   "source": [
    "inp = pd.DataFrame(index = weather.index)\n",
    "inp[\"time\"] = weather.index\n",
    "\n",
    "inp[\"solrad_north\"] = solar_rad[\"north\"]\n",
    "inp[\"solrad_south\"] = solar_rad[\"south\"]\n",
    "inp[\"solrad_east\"] = solar_rad[\"east\"]\n",
    "inp[\"solrad_west\"] = solar_rad[\"west\"]\n",
    "\n",
    "inp[\"Tout\"] = weather[\"temp\"]\n",
    "\n",
    "inp[\"Tvestp\"] = data.create_ventilation_stp(weather)[\"Tvest\"]+1\n",
    "\n",
    "inp[\"Tsup\"] = riser_CE[\"external_temperature_left\"]\n",
    "\n",
    "inp[\"verate\"] = data.create_ventilation_rate(inp.index,4,19)\n",
    "\n",
    "inp[\"occ\"] = occupants[\"inhouse\"]*0.2107\n",
    "inp[\"occ\"] = inp[\"occ\"]*2.5\n",
    "\n",
    "inp = inp.reset_index(drop=True)\n",
    "dates_inp = inp[\"time\"]\n",
    "inp[\"time\"] = inp[\"time\"].diff().astype('timedelta64[s]').astype('float').cumsum().fillna(0)\n",
    "inp = inp.set_index(\"time\")\n",
    "\n",
    "inp = inp.fillna(method=\"bfill\")"
   ]
  },
  {
   "cell_type": "markdown",
   "id": "58086694-f828-451a-89ed-b3d743249a3b",
   "metadata": {
    "tags": []
   },
   "source": [
    "### Ideals"
   ]
  },
  {
   "cell_type": "code",
   "execution_count": null,
   "id": "e9a7e7ec-3127-4da7-b14b-d11aadaeaac7",
   "metadata": {
    "tags": []
   },
   "outputs": [],
   "source": [
    "ideal = pd.DataFrame(index = temps[\"avg\"].index)\n",
    "ideal[\"time\"] = temps[\"avg\"].index\n",
    "ideal[\"T\"] = temps[\"avg\"]\n",
    "\n",
    "ideal[\"Tret\"] = riser_CE[\"external_temperature_right\"]\n",
    "\n",
    "ideal = ideal.reset_index(drop=True)\n",
    "\n",
    "ideal[\"time\"] = ideal[\"time\"].diff().astype('timedelta64[s]').astype('float').cumsum().fillna(0)\n",
    "ideal = ideal.set_index(\"time\")\n",
    "\n",
    "ideal=ideal.fillna(method=\"bfill\")"
   ]
  },
  {
   "cell_type": "markdown",
   "id": "2fc5651e-8eac-46bc-9841-babad9b86f1e",
   "metadata": {
    "tags": []
   },
   "source": [
    "## Specify 'est' and 'known'\n",
    "Here we define the known parameters and bounds for the estimated parameters."
   ]
  },
  {
   "cell_type": "code",
   "execution_count": null,
   "id": "4f37c280-4abd-4d1d-91cd-2ae71fc09781",
   "metadata": {
    "tags": []
   },
   "outputs": [],
   "source": [
    "known = {\n",
    "         'Vi': 9839,\n",
    "         'maxVent': 33992*0.226, \n",
    "         'CO2n': 415, \n",
    "         'Vinf': 100,\n",
    "         'shgcNorth': 0, \n",
    "         'shgcWest': 0\n",
    "        }\n",
    "\n",
    "est =   {\n",
    "         'shgcSouth': [30, 20, 50],\n",
    "         'shgcEast':  [30, 20, 50],\n",
    "         'RExt': [2, 0.5, 5],\n",
    "         'nomPower': [15000, 10000, 50000],\n",
    "         'maxMassFlow':[1,0.1,2],\n",
    "         'imass':[14,10,18],\n",
    "         'Tstp':[23.5,22.8,24]\n",
    "        }\n",
    "\n",
    "\n",
    "ic_param = {\n",
    "    \"TAirInit\":\"T\",\n",
    "    \"TretInit\":\"Tret\"\n",
    "}"
   ]
  },
  {
   "cell_type": "markdown",
   "id": "40869bf3-a03a-4fc4-9a6a-991b637fb4a1",
   "metadata": {
    "tags": []
   },
   "source": [
    "## Plot inputs\n",
    "Plot the inputs in a graph to test if data import is successful."
   ]
  },
  {
   "cell_type": "code",
   "execution_count": null,
   "id": "0b43e7cc-a105-4531-8742-1dae895c6549",
   "metadata": {
    "tags": []
   },
   "outputs": [],
   "source": [
    "fig = make_subplots(rows=6, cols=1,\n",
    "                    shared_xaxes = True,\n",
    "                    vertical_spacing=0.05,\n",
    "                   )\n",
    "row = 0\n",
    "# Outside temperature\n",
    "row += 1\n",
    "fig.add_scatter(x= dates_inp, y=inp[\"Tout\"],row=row,col=1,name = \"Outside - Simulated\",legendgroup=str(row))\n",
    "\n",
    "# Ventilation setpoint\n",
    "row += 1\n",
    "fig.add_scatter(x= dates_inp, y=inp[\"Tvestp\"],row=row,col=1,name = \"Ventilation stp\",legendgroup=str(row))\n",
    "\n",
    "# Solar gains\n",
    "row += 1\n",
    "fig.add_scatter(x= dates_inp, y=inp[\"solrad_north\"],row=row,col=1,name = \"Solar north\",legendgroup=str(row))\n",
    "fig.add_scatter(x= dates_inp, y=inp[\"solrad_south\"],row=row,col=1,name = \"Solar south\",legendgroup=str(row))\n",
    "fig.add_scatter(x= dates_inp, y=inp[\"solrad_east\"],row=row,col=1,name = \"Solar east\",legendgroup=str(row))\n",
    "fig.add_scatter(x= dates_inp, y=inp[\"solrad_west\"],row=row,col=1,name = \"Solar west\",legendgroup=str(row))\n",
    "\n",
    "# Supply temperatures\n",
    "row += 1\n",
    "fig.add_scatter(x= dates_inp, y=inp[\"Tsup\"],row=row,col=1,name = \"Supply - Measured\",legendgroup=str(row))\n",
    "\n",
    "# Occupancy\n",
    "row += 1\n",
    "fig.add_scatter(x= dates_inp, y=inp[\"occ\"],row=row,col=1,name = \"Occupancy\",legendgroup=str(row))\n",
    "\n",
    "# verate\n",
    "row += 1\n",
    "fig.add_scatter(x= dates_inp, y=inp[\"verate\"],row=row,col=1,name = \"verate\",legendgroup=str(row))\n",
    "\n",
    "fig.update_layout(\n",
    "    # width=800,\n",
    "    height=250*row,\n",
    "    legend_tracegroupgap = 250*245/300,)\n",
    "\n",
    "fig.update_xaxes()\n",
    "fig.show()"
   ]
  },
  {
   "cell_type": "markdown",
   "id": "c9603d77-ccd1-4e3c-842b-14978b22d742",
   "metadata": {
    "tags": []
   },
   "source": [
    "## Estimation with ModestPy\n",
    "Use the following parameters to setup and start an estimation case study, based on the previous parameter estimation example:\n",
    "\n",
    "<style type=\"text/css\">\n",
    ".tg  {border-collapse:collapse;border-spacing:0;}\n",
    ".tg td{border-color:black;border-style:solid;border-width:1px;font-family:Arial, sans-serif;font-size:14px;\n",
    "  overflow:hidden;padding:10px 5px;word-break:normal;}\n",
    ".tg th{border-color:black;border-style:solid;border-width:1px;font-family:Arial, sans-serif;font-size:14px;\n",
    "  font-weight:normal;overflow:hidden;padding:10px 5px;word-break:normal;}\n",
    ".tg .tg-0pky{border-color:inherit;text-align:left;vertical-align:top}\n",
    "</style>\n",
    "<table class=\"tg\" style=\"float:left\">\n",
    "<thead>\n",
    "  <tr>\n",
    "    <th class=\"tg-0pky\">Variable</th>\n",
    "    <th class=\"tg-0pky\">Value</th>\n",
    "  </tr>\n",
    "</thead>\n",
    "<tbody>\n",
    "  <tr>\n",
    "    <td class=\"tg-0pky\">ic_param</td>\n",
    "    <td class=\"tg-0pky\">ic_param</td>\n",
    "  </tr>\n",
    "  <tr>\n",
    "    <td class=\"tg-0pky\">lp_n</td>\n",
    "    <td class=\"tg-0pky\">1</td>\n",
    "  </tr>\n",
    "  <tr>\n",
    "    <td class=\"tg-0pky\">lp_frame</td>\n",
    "    <td class=\"tg-0pky\">(start, end)</td>\n",
    "  </tr>\n",
    "  <tr>\n",
    "    <td class=\"tg-0pky\">vp</td>\n",
    "    <td class=\"tg-0pky\">(end, end + validation)</td>\n",
    "  </tr>\n",
    "  <tr>\n",
    "    <td class=\"tg-0pky\">ftype</td>\n",
    "    <td class=\"tg-0pky\">'NRMSE'</td>\n",
    "  </tr>\n",
    "  <tr>\n",
    "    <td class=\"tg-0pky\">default_log</td>\n",
    "    <td class=\"tg-0pky\">True</td>\n",
    "  </tr>\n",
    "  <tr>\n",
    "    <td class=\"tg-0pky\">logfile</td>\n",
    "    <td class=\"tg-0pky\">'simple.log'</td>\n",
    "  </tr>\n",
    "  <tr>\n",
    "    <td class=\"tg-0pky\">methods</td>\n",
    "    <td class=\"tg-0pky\">('MODESTGA',)</td>\n",
    "  </tr>\n",
    "  <tr>\n",
    "    <td class=\"tg-0pky\">generations</td>\n",
    "    <td class=\"tg-0pky\">40</td>\n",
    "  </tr>\n",
    "  <tr>\n",
    "    <td class=\"tg-0pky\">pop_size</td>\n",
    "    <td class=\"tg-0pky\">40</td>\n",
    "  </tr>\n",
    "  <tr>\n",
    "    <td class=\"tg-0pky\">trm_size</td>\n",
    "    <td class=\"tg-0pky\">7</td>\n",
    "  </tr>\n",
    "  <tr>\n",
    "    <td class=\"tg-0pky\">tol</td>\n",
    "    <td class=\"tg-0pky\">1e-3</td>\n",
    "  </tr>\n",
    "  <tr>\n",
    "    <td class=\"tg-0pky\">workers</td>\n",
    "    <td class=\"tg-0pky\">3</td>\n",
    "  </tr>\n",
    "</tbody>\n",
    "</table>"
   ]
  },
  {
   "cell_type": "code",
   "execution_count": null,
   "id": "78926724-5524-4d68-bf76-67f6c8f1aa22",
   "metadata": {
    "tags": []
   },
   "outputs": [],
   "source": [
    "# Parameters\n",
    "fmu_path = \"FMUs/LBForsikring_ZoneR2C2StpRadiatorSolarSplit.fmu\"\n",
    "workdir = f\"Results/\"\n",
    "\n",
    "if not os.path.exists(workdir):\n",
    "  os.makedirs(workdir)\n",
    "\n",
    "start = 0              # Start of learning period\n",
    "end = 3600*24*14       # End of learning period\n",
    "validation = 3600*24*7 # Length of validation period"
   ]
  },
  {
   "cell_type": "code",
   "execution_count": null,
   "id": "7f1b773c-bd60-410e-89f6-ab48cfb202b4",
   "metadata": {
    "tags": []
   },
   "outputs": [],
   "source": [
    "# Setup estimation\n"
   ]
  },
  {
   "cell_type": "code",
   "execution_count": null,
   "id": "a3064ee7-7f33-4184-b32f-7348dd4a5017",
   "metadata": {
    "scrolled": true,
    "tags": []
   },
   "outputs": [],
   "source": [
    "# Run estimation\n"
   ]
  },
  {
   "cell_type": "code",
   "execution_count": null,
   "id": "529e8c3e-232d-480f-86f7-59b8a0f1b9f4",
   "metadata": {
    "tags": []
   },
   "outputs": [],
   "source": [
    "# Validate solution\n"
   ]
  },
  {
   "cell_type": "code",
   "execution_count": null,
   "id": "fd396a34-ac68-4d3d-adfa-e6f930c5f110",
   "metadata": {
    "tags": []
   },
   "outputs": [],
   "source": [
    "# Print estimates\n"
   ]
  },
  {
   "cell_type": "markdown",
   "id": "897c82bd-3277-4200-a76a-8e4a20f6960c",
   "metadata": {
    "tags": []
   },
   "source": [
    "## Simulate, analyze and plot estimated solution\n",
    "Run a simulation for the entire data period and plot the results"
   ]
  },
  {
   "cell_type": "code",
   "execution_count": null,
   "id": "3aead51a-5f28-4292-82fc-0c7f29c722e3",
   "metadata": {
    "tags": []
   },
   "outputs": [],
   "source": [
    "# Rewrite inputs to FMPy format\n",
    "inp_copy = inp.copy()\n",
    "inp_np = inp_copy.to_records()\n",
    "wanted_outputs = [\"T\",\"Tout\",\"Tret\",\"Tsup\",\"P_temp.y\",\"heatFlowSensor.Q_flow\",\"prescribedHeatFlow.Q_flow\",\"re.port_b.Q_flow\",\"occ\",\"Tstp\",\"filter1.y\",\"verate\",\"filter2.y\",\"solarGainNorth.Q_flow\",\"solarGainSouth.Q_flow\",\"solarGainEast.Q_flow\",\"solarGainWest.Q_flow\",\"rad.Q_flow\",\"airMix.port_b.Q_flow\",\"rad.m_flow\",\"max1.y\"]\n",
    "\n",
    "# Combine known and estimates to 'values' variable\n",
    "est_path = f\"Results/final.csv\"\n",
    "if 'estimates' in locals():\n",
    "    values = {**known, **estimates}\n",
    "else:\n",
    "    reader = csv.DictReader(open(est_path))\n",
    "    dictobj = next(reader) \n",
    "    dictobj\n",
    "    values = {**known,\n",
    "              **dictobj}\n",
    "    \n",
    "start_time = 0\n",
    "stop_time = inp.index[-1]\n",
    "result_realistic=fmpy.simulate_fmu(fmu_path,input=inp_np,start_values=values,output = wanted_outputs,start_time = start_time,stop_time=stop_time,relative_tolerance=1e-5)"
   ]
  },
  {
   "cell_type": "markdown",
   "id": "b5b799e7-7251-4e6d-a974-e30236357cb1",
   "metadata": {
    "jp-MarkdownHeadingCollapsed": true,
    "tags": []
   },
   "source": [
    "### Clean and analyse data"
   ]
  },
  {
   "cell_type": "code",
   "execution_count": null,
   "id": "3acdf09d-b100-408b-9411-60a17e6817f7",
   "metadata": {
    "tags": []
   },
   "outputs": [],
   "source": [
    "result_df = pd.DataFrame.from_records(result_realistic, index = \"time\")\n",
    "measured_df = pd.concat((ideal,inp),axis=1)\n",
    "\n",
    "result_df.index = result_df.index/3600\n",
    "measured_df.index = measured_df.index/3600\n",
    "\n",
    "result_df[\"TimeDelta\"] = result_df.index.to_series().diff() # Timestep in Hours\n",
    "measured_df[\"TimeDelta\"] = measured_df.index.to_series().diff() # Timestep in Hours\n",
    "\n",
    "result_df[\"total_heating\"] = result_df[\"TimeDelta\"]*result_df[\"rad.Q_flow\"]*(-1)/1000\n",
    "\n",
    "# Function to get a weighted average\n",
    "def w_avg(df, values, weights):\n",
    "    d = df[values]\n",
    "    w = df[weights]\n",
    "    return (d * w).sum() / w.sum()\n",
    "\n",
    "sup_temp_w_avg  = w_avg(result_df,\"Tsup\",\"total_heating\")\n",
    "ret_temp_w_avg  = w_avg(result_df,\"Tret\",\"total_heating\")\n",
    "\n",
    "\n",
    "print(\"Total heating:\",result_df[\"total_heating\"].sum().round(0),\"kWh\")\n",
    "print(\"Avg. supply temp:\",sup_temp_w_avg.round(1),\"°C\")\n",
    "print(\"Avg. return temp:\",ret_temp_w_avg.round(1),\"°C\")"
   ]
  },
  {
   "cell_type": "markdown",
   "id": "ac1711e2-a11a-4244-8a4d-adef86b744ac",
   "metadata": {
    "tags": []
   },
   "source": [
    "### Plot simulation results"
   ]
  },
  {
   "cell_type": "code",
   "execution_count": null,
   "id": "9dd54048-df51-4390-b728-ed05f5c181d7",
   "metadata": {
    "tags": []
   },
   "outputs": [],
   "source": [
    "dates_result = pd.to_timedelta(result_df.index,'h')+dates_inp[0]\n",
    "\n",
    "fig = make_subplots(rows=7, cols=1,\n",
    "                    shared_xaxes = True,\n",
    "                    vertical_spacing=0.05,\n",
    "                    # subplot_titles = [\"Room temperature\",\"System temperatures\",\"Occupancy\",\"Solar gains\",\"TRV\",\"Ventilation\",\"Damping\",\"verate\"]\n",
    "                   )\n",
    "\n",
    "\n",
    "# Outside temperature\n",
    "row = 1\n",
    "fig.add_scatter(x= dates_result, y=result_df[\"Tout\"],row=row,col=1,name = \"Outside temperature\",legendgroup=str(row))\n",
    "fig.add_scatter(x= dates_result, y=result_df[\"max1.y\"]-273.15,row=row,col=1,name = \"Ventilation temperature\",legendgroup=str(row))\n",
    "\n",
    "# Room temperature\n",
    "row += 1\n",
    "fig.add_scatter(x= dates_result, y=result_df[\"T\"],row=row,col=1,name = \"Room - Simulated\",legendgroup=str(row))\n",
    "fig.add_scatter(x= dates_inp, y=measured_df[\"T\"],row=row,col=1,name = \"Room - Measured\",legendgroup=str(row))\n",
    "\n",
    "# System temperatures\n",
    "row += 1\n",
    "fig.add_scatter(x= dates_result, y=result_df[\"Tsup\"],row=row,col=1,name = \"Supply - Measured\",legendgroup=str(row))\n",
    "fig.add_scatter(x= dates_inp, y=measured_df[\"Tret\"],row=row,col=1,name = \"Return - Measured\",legendgroup=str(row))\n",
    "fig.add_scatter(x= dates_result, y=result_df[\"Tret\"],row=row,col=1, name = \"Return - Simulated\",legendgroup=str(row))\n",
    "\n",
    "\n",
    "# Occupancy\n",
    "row += 1\n",
    "fig.add_scatter(x= dates_inp, y=measured_df[\"occ\"],row=row,col=1,name = \"Occupancy\",legendgroup=str(row))\n",
    "\n",
    "\n",
    "# radiator heat\n",
    "row += 1\n",
    "fig.add_scatter(x= dates_result, y=result_df[\"rad.Q_flow\"],row=row,col=1,name = \"rad.Q_flow\",legendgroup=str(row))\n",
    "\n",
    "# Solar gains\n",
    "row += 1\n",
    "fig.add_scatter(x= dates_result, y=result_df[\"solarGainSouth.Q_flow\"],row=row,col=1,name = \"Solar gains South\",legendgroup=str(row))\n",
    "fig.add_scatter(x= dates_result, y=result_df[\"solarGainEast.Q_flow\"],row=row,col=1,name = \"Solar gains East\",legendgroup=str(row))\n",
    "\n",
    "# ventilation gain\n",
    "row += 1\n",
    "fig.add_scatter(x= dates_result, y=result_df[\"airMix.port_b.Q_flow\"],row=row,col=1,name = \"Ventilation loss\",legendgroup=str(row))\n",
    "fig.add_scatter(x= dates_result, y=result_df[\"re.port_b.Q_flow\"],row=row,col=1,name = \"Transmission loss\",legendgroup=str(row))\n",
    "\n",
    "fig.update_layout(\n",
    "    height=250*row,\n",
    "    legend_tracegroupgap = 250*240/300,)\n",
    "\n",
    "fig.show()"
   ]
  },
  {
   "cell_type": "code",
   "execution_count": null,
   "id": "74f0e010-8593-41af-94a7-96542c8a2ffb",
   "metadata": {
    "tags": []
   },
   "outputs": [],
   "source": [
    "# Rewrite inputs to FMPy format\n",
    "inp_low_supply = inp.copy()\n",
    "inp_low_supply[\"Tsup\"] = inp_low_supply[\"Tsup\"] - 10\n",
    "inp_np = inp_low_supply.to_records()"
   ]
  },
  {
   "cell_type": "code",
   "execution_count": null,
   "id": "b65c1ae5-a39b-4335-bbd3-36031dd8dd58",
   "metadata": {
    "tags": []
   },
   "outputs": [],
   "source": [
    "wanted_outputs = [\"T\",\"Tout\",\"Tret\",\"Tsup\",\"P_temp.y\",\"heatFlowSensor.Q_flow\",\"prescribedHeatFlow.Q_flow\",\"re.Q_flow\",\"occ\",\"Tstp\",\"filter1.y\",\"verate\",\"filter2.y\",\"solarGainNorth.Q_flow\",\"solarGainSouth.Q_flow\",\"solarGainEast.Q_flow\",\"solarGainWest.Q_flow\",\"rad.Q_flow\",\"airMix.port_b.Q_flow\",\"rad.m_flow\",\"max1.y\"]"
   ]
  },
  {
   "cell_type": "code",
   "execution_count": null,
   "id": "1365be16-fa77-4002-bb23-64f77987cb34",
   "metadata": {
    "tags": []
   },
   "outputs": [],
   "source": [
    "# \n",
    "if 'estimates' in locals():\n",
    "    values_low_supply = {**known, **estimates}\n",
    "else:\n",
    "    print(\"estimates are unknown!\")\n",
    "\n",
    "values_low_supply[\"nomPower\"] = 22000\n",
    "values_low_supply"
   ]
  },
  {
   "cell_type": "code",
   "execution_count": null,
   "id": "6a631e2b-22b8-4739-b57b-4ea86fea4ad4",
   "metadata": {
    "tags": []
   },
   "outputs": [],
   "source": [
    "start_time = 0\n",
    "stop_time = inp.index[-1]\n",
    "result=fmpy.simulate_fmu(fmu_path,input=inp_np,start_values=values_low_supply,output = wanted_outputs,start_time = start_time,stop_time=stop_time,relative_tolerance=1e-5,output_interval=600)\n",
    "# fmpy.plot_result(result)\n",
    "# pd.DataFrame.from_records(result, index = \"time\")"
   ]
  },
  {
   "cell_type": "code",
   "execution_count": null,
   "id": "56fdbd2a-e0d3-449d-8575-b46af2f2ab43",
   "metadata": {},
   "outputs": [],
   "source": [
    "def w_avg(df, values, weights):\n",
    "    d = df[values]\n",
    "    w = df[weights]\n",
    "    return (d * w).sum() / w.sum()"
   ]
  },
  {
   "cell_type": "code",
   "execution_count": null,
   "id": "2e0eb06a-7c34-4cdd-9db8-df41a3df3cb3",
   "metadata": {
    "tags": []
   },
   "outputs": [],
   "source": [
    "result_df_low_supply = pd.DataFrame.from_records(result, index = \"time\")\n",
    "measured_df_low_supply = pd.concat((ideal,inp),axis=1)\n",
    "\n",
    "result_df_low_supply[\"TimeDelta\"] = result_df_low_supply.index.to_series().diff()/3600 # Timestep in Hours\n",
    "measured_df_low_supply[\"TimeDelta\"] = measured_df_low_supply.index.to_series().diff()/3600 # Timestep in Hours\n",
    "\n",
    "result_df_low_supply[\"total_heating\"] = result_df_low_supply[\"TimeDelta\"]*result_df_low_supply[\"rad.Q_flow\"]*(-1)/1000\n",
    "\n",
    "sup_temp_w_avg  = w_avg(result_df_low_supply,\"Tsup\",\"total_heating\")\n",
    "ret_temp_w_avg  = w_avg(result_df_low_supply,\"Tret\",\"total_heating\")\n",
    "\n",
    "\n",
    "print(\"Total heating:\",result_df_low_supply[\"total_heating\"].sum().round(0),\"kWh\")\n",
    "print(\"Avg. supply temp:\",sup_temp_w_avg.round(1),\"°C\")\n",
    "print(\"Avg. supply temp:\",ret_temp_w_avg.round(1),\"°C\")\n",
    "\n",
    "# result_df_low_supply.head()"
   ]
  },
  {
   "cell_type": "code",
   "execution_count": null,
   "id": "66af4742-ac19-4a9f-a11d-8aee8ccdb6ac",
   "metadata": {
    "tags": []
   },
   "outputs": [],
   "source": [
    "fig = make_subplots(rows=4, cols=1,\n",
    "                    shared_xaxes = True,\n",
    "                    vertical_spacing=0.05,\n",
    "                    # subplot_titles = [\"Room temperature\",\"System temperatures\",\"Occupancy\",\"Solar gains\",\"TRV\",\"Ventilation\",\"Damping\",\"verate\"]\n",
    "                   )\n",
    "\n",
    "\n",
    "# Outside temperature\n",
    "row = 1\n",
    "fig.add_scatter(x= result_df_low_supply.index, y=result_df_low_supply[\"Tout\"],row=row,col=1,name = \"Outside temperature\",legendgroup=str(row))\n",
    "fig.add_scatter(x= measured_df.index, y=measured_df[\"Tvestp\"],row=row,col=1,name = \"Ventilation temperature\",legendgroup=str(row))\n",
    "\n",
    "# Room temperature\n",
    "row += 1\n",
    "fig.add_scatter(x= result_df_low_supply.index, y=result_df_low_supply[\"T\"],row=row,col=1,name = \"Room - Simulated optimum\",legendgroup=str(row))\n",
    "fig.add_scatter(x= measured_df.index, y=measured_df[\"T\"],row=row,col=1,name = \"Room - Measured\",legendgroup=str(row))\n",
    "fig.add_scatter(x= result_df.index, y=result_df[\"T\"],row=row,col=1,name = \"Room - Simulated realistic\",legendgroup=str(row))\n",
    "\n",
    "# System temperatures\n",
    "row += 1\n",
    "fig.add_scatter(x= result_df_low_supply.index, y=result_df_low_supply[\"Tsup\"],row=row,col=1,name = \"Supply - Measured\",legendgroup=str(row))\n",
    "fig.add_scatter(x= measured_df.index, y=measured_df[\"Tret\"],row=row,col=1,name = \"Return - Measured\",legendgroup=str(row))\n",
    "fig.add_scatter(x= result_df.index, y=result_df[\"Tret\"],row=row,col=1, name = \"Return - Simulated\",legendgroup=str(row))\n",
    "fig.add_scatter(x= result_df_low_supply.index, y=result_df_low_supply[\"Tret\"],row=row,col=1, name = \"Return - Simulated optimal\",legendgroup=str(row))\n",
    "\n",
    "\n",
    "# radiator heat\n",
    "row += 1\n",
    "fig.add_scatter(x= result_df_low_supply.index, y=result_df_low_supply[\"rad.Q_flow\"],row=row,col=1,name = \"rad.Q_flow\",legendgroup=str(row))\n",
    "\n",
    "\n",
    "fig.update_layout(\n",
    "    # width=800,\n",
    "    height=250*row,\n",
    "    legend_tracegroupgap = 250*240/300,)\n",
    "\n",
    "\n",
    "# fig.update_xaxes(range = [start_time,stop_time])\n",
    "fig.show()"
   ]
  },
  {
   "cell_type": "code",
   "execution_count": null,
   "id": "ce117716-7453-48f2-a66f-12ccf613d0cd",
   "metadata": {
    "tags": []
   },
   "outputs": [],
   "source": [
    "# Rewrite inputs to FMPy format\n",
    "inp_low_supply = inp.copy()\n",
    "inp_low_supply[\"Tsup\"] = inp_low_supply[\"Tsup\"] - 10\n",
    "inp_np = inp_low_supply.to_records()"
   ]
  },
  {
   "cell_type": "code",
   "execution_count": null,
   "id": "59224139-d23d-4b62-b643-e69805823bac",
   "metadata": {
    "tags": []
   },
   "outputs": [],
   "source": [
    "wanted_outputs = [\"T\",\"Tout\",\"Tret\",\"Tsup\",\"P_temp.y\",\"heatFlowSensor.Q_flow\",\"prescribedHeatFlow.Q_flow\",\"re.Q_flow\",\"occ\",\"Tstp\",\"filter1.y\",\"verate\",\"filter2.y\",\"solarGainNorth.Q_flow\",\"solarGainSouth.Q_flow\",\"solarGainEast.Q_flow\",\"solarGainWest.Q_flow\",\"rad.Q_flow\",\"airMix.port_b.Q_flow\",\"rad.m_flow\"]"
   ]
  },
  {
   "cell_type": "code",
   "execution_count": null,
   "id": "2ab4a980-4ff3-4dde-abac-ce62614a76cc",
   "metadata": {
    "tags": []
   },
   "outputs": [],
   "source": [
    "# \n",
    "est_path = f\"Results/{month}/final.csv\"\n",
    "if 'estimates' in locals():\n",
    "    values = {**known, **estimates}\n",
    "else:\n",
    "    reader = csv.DictReader(open(est_path))\n",
    "    dictobj = next(reader) \n",
    "    dictobj\n",
    "    values = {**known,\n",
    "              **dictobj}\n",
    "\n",
    "    \n",
    "values[\"TAirInit\"] = ideal[\"T\"][0]\n",
    "values[\"TretInit\"] = ideal[\"Tret\"][0]\n",
    "values"
   ]
  },
  {
   "cell_type": "code",
   "execution_count": null,
   "id": "718bbea3-848d-4d64-a529-6bf5fd0180d7",
   "metadata": {
    "tags": []
   },
   "outputs": [],
   "source": [
    "start_time = 0\n",
    "stop_time = inp.index[-1]\n",
    "result=fmpy.simulate_fmu(fmu_path,input=inp_np,start_values=values,output = wanted_outputs,start_time = start_time,stop_time=stop_time,relative_tolerance=1e-5,output_interval=600)\n",
    "# fmpy.plot_result(result)\n",
    "# pd.DataFrame.from_records(result, index = \"time\")"
   ]
  },
  {
   "cell_type": "code",
   "execution_count": null,
   "id": "0659feba-012e-48df-b6db-8fa2bce200e0",
   "metadata": {
    "tags": []
   },
   "outputs": [],
   "source": [
    "def w_avg(df, values, weights):\n",
    "    d = df[values]\n",
    "    w = df[weights]\n",
    "    return (d * w).sum() / w.sum()"
   ]
  },
  {
   "cell_type": "code",
   "execution_count": null,
   "id": "e0b9191a-d34a-46ae-af87-f4351b218c0c",
   "metadata": {
    "tags": []
   },
   "outputs": [],
   "source": [
    "result_df_low_supply = pd.DataFrame.from_records(result, index = \"time\")\n",
    "measured_df_low_supply = pd.concat((ideal,inp),axis=1)\n",
    "result_df_low_supply.index = result_df_low_supply.index/3600\n",
    "measured_df_low_supply.index = measured_df_low_supply.index/3600\n",
    "\n",
    "result_df_low_supply[\"TimeDelta\"] = result_df_low_supply.index.to_series().diff() # Timestep in Hours\n",
    "measured_df_low_supply[\"TimeDelta\"] = measured_df_low_supply.index.to_series().diff() # Timestep in Hours\n",
    "\n",
    "result_df_low_supply[\"total_heating\"] = result_df_low_supply[\"TimeDelta\"]*result_df_low_supply[\"rad.Q_flow\"]*(-1)/1000\n",
    "\n",
    "sup_temp_w_avg  = w_avg(result_df_low_supply,\"Tsup\",\"total_heating\")\n",
    "ret_temp_w_avg  = w_avg(result_df_low_supply,\"Tret\",\"total_heating\")\n",
    "\n",
    "\n",
    "print(\"Total heating:\",result_df_low_supply[\"total_heating\"].sum().round(0),\"kWh\")\n",
    "print(\"Avg. supply temp:\",sup_temp_w_avg.round(1),\"°C\")\n",
    "print(\"Avg. supply temp:\",ret_temp_w_avg.round(1),\"°C\")\n",
    "\n",
    "# result_df_low_supply.head()"
   ]
  },
  {
   "cell_type": "code",
   "execution_count": null,
   "id": "2164f082-b58e-495c-89bd-90c164d0046e",
   "metadata": {
    "tags": []
   },
   "outputs": [],
   "source": [
    "\n",
    "cm = 1/2.54\n",
    "\n",
    "fig, axes = plt.subplots(nrows=2, ncols=1,\n",
    "                    sharex=True,\n",
    "                    # gridspec_kw={'height_ratios': [2, 3]},\n",
    "                    figsize=(17*cm, 10*cm))\n",
    "\n",
    "# result_df_low_supply[\"T\"].plot(label=\"Simulated T\", ax=axes[0])\n",
    "result_df_low_supply[\"T\"].plot(label=\"Simulated T\", ax=axes[0])\n",
    "measured_df[\"T\"].plot(label=\"Measured T\",ax=axes[0])\n",
    "axes[0].set_ylabel(\"$T_{room}$ [°C]\")\n",
    "\n",
    "\n",
    "result_df_low_supply[\"Tret\"].plot(label=\"Simulated Tret\", ax=axes[1])\n",
    "measured_df[\"Tret\"].plot(label=\"Measured Tret\",ax=axes[1])\n",
    "axes[1].set_ylabel(\"$T_{ret}$ [°C]\")\n",
    "axes[1].set_xlabel(\"Time [h]\")\n",
    "\n",
    "\n",
    "fig.legend([\"Low Tsup\",\"Measured\"],loc='lower right', bbox_to_anchor=(0.5, 0.12, 0.42, 0.5))\n",
    "\n",
    "plt.savefig(\"test_low_tsup_estimated.pdf\")"
   ]
  },
  {
   "cell_type": "code",
   "execution_count": null,
   "id": "698a17f1-eb49-4116-b4b7-788122bdf9b4",
   "metadata": {
    "tags": []
   },
   "outputs": [],
   "source": [
    "# fig = make_subplots(rows=4, cols=1,\n",
    "#                     shared_xaxes = True,\n",
    "#                     vertical_spacing=0.05,\n",
    "#                     # subplot_titles = [\"Room temperature\",\"System temperatures\",\"Occupancy\",\"Solar gains\",\"TRV\",\"Ventilation\",\"Damping\",\"verate\"]\n",
    "#                    )\n",
    "\n",
    "\n",
    "# # Outside temperature\n",
    "# row = 1\n",
    "# fig.add_scatter(x= result_df_low_supply.index, y=result_df_low_supply[\"Tout\"],row=row,col=1,name = \"Outside temperature\",legendgroup=str(row))\n",
    "# fig.add_scatter(x= measured_df.index, y=measured_df[\"Tvestp\"],row=row,col=1,name = \"Ventilation temperature\",legendgroup=str(row))\n",
    "\n",
    "# # Room temperature\n",
    "# row += 1\n",
    "# fig.add_scatter(x= result_df_low_supply.index, y=result_df_low_supply[\"T\"],row=row,col=1,name = \"Room - Simulated optimum\",legendgroup=str(row))\n",
    "# fig.add_scatter(x= measured_df.index, y=measured_df[\"T\"],row=row,col=1,name = \"Room - Measured\",legendgroup=str(row))\n",
    "# fig.add_scatter(x= result_df.index, y=result_df[\"T\"],row=row,col=1,name = \"Room - Simulated realistic\",legendgroup=str(row))\n",
    "\n",
    "# # System temperatures\n",
    "# row += 1\n",
    "# fig.add_scatter(x= result_df_low_supply.index, y=result_df_low_supply[\"Tsup\"],row=row,col=1,name = \"Supply - Measured\",legendgroup=str(row))\n",
    "# fig.add_scatter(x= measured_df.index, y=measured_df[\"Tret\"],row=row,col=1,name = \"Return - Measured\",legendgroup=str(row))\n",
    "# fig.add_scatter(x= result_df.index, y=result_df[\"Tret\"],row=row,col=1, name = \"Return - Simulated\",legendgroup=str(row))\n",
    "# fig.add_scatter(x= result_df_low_supply.index, y=result_df_low_supply[\"Tret\"],row=row,col=1, name = \"Return - Simulated optimal\",legendgroup=str(row))\n",
    "\n",
    "\n",
    "# # radiator heat\n",
    "# row += 1\n",
    "# fig.add_scatter(x= result_df_low_supply.index, y=result_df_low_supply[\"rad.Q_flow\"],row=row,col=1,name = \"rad.Q_flow\",legendgroup=str(row))\n",
    "\n",
    "\n",
    "# fig.update_layout(\n",
    "#     # width=800,\n",
    "#     height=250*row,\n",
    "#     legend_tracegroupgap = 250*240/300,)\n",
    "\n",
    "\n",
    "# # fig.update_xaxes(range = [start_time,stop_time])\n",
    "# fig.show()"
   ]
  },
  {
   "cell_type": "code",
   "execution_count": null,
   "id": "8e8cb046-ac2b-4de2-855d-18aeac81defc",
   "metadata": {},
   "outputs": [],
   "source": []
  }
 ],
 "metadata": {
  "interpreter": {
   "hash": "2801e3f41615585cbf9310ac45c7ba2d0ae31d88c3f63692fd086fe42a5f827a"
  },
  "kernelspec": {
   "display_name": "Python 3 (ipykernel)",
   "language": "python",
   "name": "python3"
  },
  "language_info": {
   "codemirror_mode": {
    "name": "ipython",
    "version": 3
   },
   "file_extension": ".py",
   "mimetype": "text/x-python",
   "name": "python",
   "nbconvert_exporter": "python",
   "pygments_lexer": "ipython3",
   "version": "3.10.4"
  }
 },
 "nbformat": 4,
 "nbformat_minor": 5
}
